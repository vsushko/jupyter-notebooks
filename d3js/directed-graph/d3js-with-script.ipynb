{
 "cells": [
  {
   "cell_type": "code",
   "execution_count": 9,
   "metadata": {},
   "outputs": [],
   "source": [
    "from IPython.display import Javascript, HTML\n",
    "import json"
   ]
  },
  {
   "cell_type": "code",
   "execution_count": 10,
   "metadata": {},
   "outputs": [
    {
     "data": {
      "application/javascript": [
       "require.config({\n",
       "    paths: {\n",
       "        d3: 'lib/d3.v5.min.js'\n",
       "    }\n",
       "});\n"
      ],
      "text/plain": [
       "<IPython.core.display.Javascript object>"
      ]
     },
     "metadata": {},
     "output_type": "display_data"
    }
   ],
   "source": [
    "%%javascript\n",
    "require.config({\n",
    "    paths: {\n",
    "        d3: 'lib/d3.v5.min.js'\n",
    "    }\n",
    "});\n"
   ]
  },
  {
   "cell_type": "code",
   "execution_count": 11,
   "metadata": {},
   "outputs": [
    {
     "data": {
      "application/javascript": [
       "require.undef('graph');\n",
       "\n",
       "define('graph', ['d3'], function (d3) {\n",
       "  function draw(element, graph, width, height) {\n",
       "    var color = d3.scaleOrdinal(d3.schemeCategory10);\n",
       "\n",
       "    var label = {\n",
       "      'nodes': [],\n",
       "      'links': []\n",
       "    };\n",
       "\n",
       "    graph.nodes.forEach(function (d, i) {\n",
       "      label.nodes.push({ node: d });\n",
       "      label.nodes.push({ node: d });\n",
       "      label.links.push({\n",
       "        source: i * 2,\n",
       "        target: i * 2 + 1\n",
       "      });\n",
       "    });\n",
       "\n",
       "    var labelLayout = d3.forceSimulation(label.nodes)\n",
       "      .force(\"charge\", d3.forceManyBody().strength(-50))\n",
       "      .force(\"link\", d3.forceLink(label.links).distance(0).strength(2));\n",
       "\n",
       "    var graphLayout = d3.forceSimulation(graph.nodes)\n",
       "      .force(\"charge\", d3.forceManyBody().strength(-3000))\n",
       "      .force(\"center\", d3.forceCenter(width / 2, height / 2))\n",
       "      .force(\"x\", d3.forceX(width / 2).strength(1))\n",
       "      .force(\"y\", d3.forceY(height / 2).strength(1))\n",
       "      .force(\"link\", d3.forceLink(graph.links).id(function (d) { return d.id; }).distance(50).strength(1))\n",
       "      .on(\"tick\", ticked);\n",
       "\n",
       "    var adjlist = [];\n",
       "\n",
       "    graph.links.forEach(function (d) {\n",
       "      adjlist[d.source.index + \"-\" + d.target.index] = true;\n",
       "      adjlist[d.target.index + \"-\" + d.source.index] = true;\n",
       "    });\n",
       "\n",
       "    function neigh(a, b) {\n",
       "      return a == b || adjlist[a + \"-\" + b];\n",
       "    }\n",
       "\n",
       "    var svg = d3.select(element).append('svg').attr(\"width\", width).attr(\"height\", height);\n",
       "    var container = svg.append(\"g\");\n",
       "\n",
       "    svg.call(d3.zoom()\n",
       "      .scaleExtent([.1, 4])\n",
       "      .on(\"zoom\", function () { container.attr(\"transform\", d3.event.transform); })\n",
       "    );\n",
       "\n",
       "    var link = container.append(\"g\").attr(\"class\", \"links\")\n",
       "      .selectAll(\"line\")\n",
       "      .data(graph.links)\n",
       "      .enter()\n",
       "      .append(\"line\")\n",
       "      .attr(\"stroke\", \"#aaa\")\n",
       "      .attr(\"stroke-width\", \"1px\");\n",
       "\n",
       "    var node = container.append(\"g\").attr(\"class\", \"nodes\")\n",
       "      .selectAll(\"g\")\n",
       "      .data(graph.nodes)\n",
       "      .enter()\n",
       "      .append(\"circle\")\n",
       "      .attr(\"r\", 5)\n",
       "      .attr(\"fill\", function (d) { return color(d.group); })\n",
       "\n",
       "    node.on(\"mouseover\", focus).on(\"mouseout\", unfocus);\n",
       "\n",
       "    node.call(d3.drag()\n",
       "      .on(\"start\", dragstarted)\n",
       "      .on(\"drag\", dragged)\n",
       "      .on(\"end\", dragended)\n",
       "    );\n",
       "\n",
       "    var labelNode = container.append(\"g\").attr(\"class\", \"labelNodes\")\n",
       "      .selectAll(\"text\")\n",
       "      .data(label.nodes)\n",
       "      .enter()\n",
       "      .append(\"text\")\n",
       "      .text(function (d, i) { return i % 2 == 0 ? \"\" : d.node.id; })\n",
       "      .style(\"fill\", \"#555\")\n",
       "      .style(\"font-family\", \"Arial\")\n",
       "      .style(\"font-size\", 12)\n",
       "      .style(\"pointer-events\", \"none\"); // to prevent mouseover/drag capture\n",
       "\n",
       "    node.on(\"mouseover\", focus).on(\"mouseout\", unfocus);\n",
       "\n",
       "    function ticked() {\n",
       "\n",
       "      node.call(updateNode);\n",
       "      link.call(updateLink);\n",
       "\n",
       "      labelLayout.alphaTarget(0.3).restart();\n",
       "      labelNode.each(function (d, i) {\n",
       "\n",
       "        if (i % 2 == 0) {\n",
       "          d.x = d.node.x;\n",
       "          d.y = d.node.y;\n",
       "        } else {\n",
       "          var b = this.getBBox();\n",
       "\n",
       "          var diffX = d.x - d.node.x;\n",
       "          var diffY = d.y - d.node.y;\n",
       "\n",
       "          var dist = Math.sqrt(diffX * diffX + diffY * diffY);\n",
       "\n",
       "          var shiftX = b.width * (diffX - dist) / (dist * 2);\n",
       "          shiftX = Math.max(-b.width, Math.min(0, shiftX));\n",
       "          var shiftY = 16;\n",
       "          this.setAttribute(\"transform\", \"translate(\" + shiftX + \",\" + shiftY + \")\");\n",
       "        }\n",
       "      });\n",
       "      labelNode.call(updateNode);\n",
       "    }\n",
       "\n",
       "    function fixna(x) {\n",
       "      if (isFinite(x)) return x;\n",
       "      return 0;\n",
       "    }\n",
       "\n",
       "    function focus(d) {\n",
       "      var index = d3.select(d3.event.target).datum().index;\n",
       "      node.style(\"opacity\", function (o) {\n",
       "        return neigh(index, o.index) ? 1 : 0.1;\n",
       "      });\n",
       "      labelNode.attr(\"display\", function (o) {\n",
       "        return neigh(index, o.node.index) ? \"block\" : \"none\";\n",
       "      });\n",
       "      link.style(\"opacity\", function (o) {\n",
       "        return o.source.index == index || o.target.index == index ? 1 : 0.1;\n",
       "      });\n",
       "    }\n",
       "\n",
       "    function unfocus() {\n",
       "      labelNode.attr(\"display\", \"block\");\n",
       "      node.style(\"opacity\", 1);\n",
       "      link.style(\"opacity\", 1);\n",
       "    }\n",
       "\n",
       "    function updateLink(link) {\n",
       "      link.attr(\"x1\", function (d) { return fixna(d.source.x); })\n",
       "        .attr(\"y1\", function (d) { return fixna(d.source.y); })\n",
       "        .attr(\"x2\", function (d) { return fixna(d.target.x); })\n",
       "        .attr(\"y2\", function (d) { return fixna(d.target.y); });\n",
       "    }\n",
       "\n",
       "    function updateNode(node) {\n",
       "      node.attr(\"transform\", function (d) {\n",
       "        return \"translate(\" + fixna(d.x) + \",\" + fixna(d.y) + \")\";\n",
       "      });\n",
       "    }\n",
       "\n",
       "    function dragstarted(d) {\n",
       "      d3.event.sourceEvent.stopPropagation();\n",
       "      if (!d3.event.active) graphLayout.alphaTarget(0.3).restart();\n",
       "      d.fx = d.x;\n",
       "      d.fy = d.y;\n",
       "    }\n",
       "\n",
       "    function dragged(d) {\n",
       "      d.fx = d3.event.x;\n",
       "      d.fy = d3.event.y;\n",
       "    }\n",
       "\n",
       "    function dragended(d) {\n",
       "      if (!d3.event.active) graphLayout.alphaTarget(0);\n",
       "      d.fx = null;\n",
       "      d.fy = null;\n",
       "    }\n",
       "  }\n",
       "  return draw;\n",
       "});"
      ],
      "text/plain": [
       "<IPython.core.display.Javascript object>"
      ]
     },
     "execution_count": 11,
     "metadata": {},
     "output_type": "execute_result"
    }
   ],
   "source": [
    "Javascript(filename='graph.js')"
   ]
  },
  {
   "cell_type": "code",
   "execution_count": 12,
   "metadata": {},
   "outputs": [
    {
     "data": {
      "application/javascript": [
       "\n",
       "        (function(element){\n",
       "            require(['graph'], function(graph) {\n",
       "                graph(element.get(0), {\"nodes\": [{\"id\": \"Myriel\", \"group\": 1}, {\"id\": \"Napoleon\", \"group\": 1}, {\"id\": \"Count\", \"group\": 1}, {\"id\": \"Isabeau\", \"group\": 2}, {\"id\": \"Listolier\", \"group\": 3}, {\"id\": \"Blacheville\", \"group\": 3}, {\"id\": \"Jondrette\", \"group\": 7}, {\"id\": \"Mme.Burgon\", \"group\": 7}], \"links\": [{\"source\": \"Napoleon\", \"target\": \"Myriel\", \"value\": 1}, {\"source\": \"Count\", \"target\": \"Myriel\", \"value\": 1}, {\"source\": \"Myriel\", \"target\": \"Isabeau\", \"value\": 1}, {\"source\": \"Blacheville\", \"target\": \"Listolier\", \"value\": 1}, {\"source\": \"Mme.Burgon\", \"target\": \"Jondrette\", \"value\": 1}, {\"source\": \"Isabeau\", \"target\": \"Jondrette\", \"value\": 1}, {\"source\": \"Isabeau\", \"target\": \"Count\", \"value\": 1}, {\"source\": \"Isabeau\", \"target\": \"Listolier\", \"value\": 1}]}, 600, 400);\n",
       "            });\n",
       "        })(element);\n",
       "    "
      ],
      "text/plain": [
       "<IPython.core.display.Javascript object>"
      ]
     },
     "metadata": {},
     "output_type": "display_data"
    }
   ],
   "source": [
    "def draw_circles(data, width=800, height=600):\n",
    "    display(Javascript(\"\"\"\n",
    "        (function(element){\n",
    "            require(['graph'], function(graph) {\n",
    "                graph(element.get(0), %s, %d, %d);\n",
    "            });\n",
    "        })(element);\n",
    "    \"\"\" % (json.dumps(data), width, height)))\n",
    "\n",
    "with open(\"graph.json\", 'r') as f:\n",
    "    data = json.load(f)\n",
    "\n",
    "draw_circles(data, width=600, height=400)"
   ]
  },
  {
   "cell_type": "code",
   "execution_count": null,
   "metadata": {},
   "outputs": [],
   "source": []
  },
  {
   "cell_type": "code",
   "execution_count": null,
   "metadata": {},
   "outputs": [],
   "source": []
  }
 ],
 "metadata": {
  "kernelspec": {
   "display_name": "Python 3",
   "language": "python",
   "name": "python3"
  },
  "language_info": {
   "codemirror_mode": {
    "name": "ipython",
    "version": 3
   },
   "file_extension": ".py",
   "mimetype": "text/x-python",
   "name": "python",
   "nbconvert_exporter": "python",
   "pygments_lexer": "ipython3",
   "version": "3.7.3"
  }
 },
 "nbformat": 4,
 "nbformat_minor": 2
}
